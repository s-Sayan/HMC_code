{
 "cells": [
  {
   "cell_type": "markdown",
   "metadata": {},
   "source": [
    "Check the autocorrelation length of the parameters for different ns\n",
    "C(n) = avg((ith sample-mean/sigma)i+n th sample - mean / sigma)\n",
    "\n",
    "Taking n from 0 to 1000"
   ]
  },
  {
   "cell_type": "code",
   "execution_count": null,
   "metadata": {},
   "outputs": [],
   "source": [
    "#Storing the Sampled beta values. beta 10, Beta 11r and beta11i\n",
    "burnin = 8000\n",
    "file_path = '/home/vaishali/Desktop/accepted_m1M_pol_param_bl_smica.dat'\n",
    "file_path1 = '/home/vaishali/Desktop/accepted_m1M_pol_hpc_bl_smica.dat'\n",
    "b = np.loadtxt(file_path, usecols=(0,1,3), unpack=True)\n",
    "b_pol = np.loadtxt(file_path1, usecols=(0,1,3), unpack=True)"
   ]
  },
  {
   "cell_type": "code",
   "execution_count": null,
   "metadata": {},
   "outputs": [],
   "source": [
    "b10_pol = b_pol[0,burnin:]\n",
    "b11r_pol=b_pol[1,burnin:]\n",
    "b11i_pol=b_pol[2,burnin:]\n",
    "data = np.array([b10_pol,b11r_pol,b11i_pol])\n",
    "print(data.shape)"
   ]
  },
  {
   "cell_type": "code",
   "execution_count": null,
   "metadata": {},
   "outputs": [],
   "source": [
    "cor_length = np.zeros(shape=(3,1001))\n",
    "for k in range(3):\n",
    "    mean = np.mean(b[k,burnin:])\n",
    "    var = np.var(b[k,burnin:])\n",
    "    for n in range(1001):\n",
    "        for i in range(length[0]-n):    \n",
    "            cor_length[k,n] = cor_length[k,n] + (b[k,burnin+i]- mean)*(b[k,burnin+i+n]-mean)/(var*(length[0]))  "
   ]
  },
  {
   "cell_type": "code",
   "execution_count": null,
   "metadata": {},
   "outputs": [],
   "source": [
    "no = np.ndarray(shape=(1001))\n",
    "for v in range(1001):\n",
    "    no[v] = v"
   ]
  },
  {
   "cell_type": "code",
   "execution_count": null,
   "metadata": {},
   "outputs": [],
   "source": [
    "figure,axis = plt.subplots(1,3)\n",
    "figure.set_figheight(15)\n",
    "figure.set_figwidth(15)\n",
    "axis[0].plot(no,cor_length[0,:])\n",
    "axis[0].set_xlabel('n')\n",
    "axis[0].set_ylabel('$C(n)$')\n",
    "axis[0].set_title(r'$\\beta 10$')\n",
    "axis[1].plot(no,cor_length[1,:])\n",
    "axis[1].set_xlabel('n')\n",
    "axis[1].set_title(r'$\\beta 11r$')\n",
    "axis[2].plot(no,cor_length[2,:])\n",
    "axis[2].set_xlabel('n')\n",
    "axis[2].set_title(r'$\\beta 11i$')"
   ]
  }
 ],
 "metadata": {
  "kernelspec": {
   "display_name": "envHMC",
   "language": "python",
   "name": "python3"
  },
  "language_info": {
   "name": "python",
   "version": "3.9.19"
  }
 },
 "nbformat": 4,
 "nbformat_minor": 2
}
